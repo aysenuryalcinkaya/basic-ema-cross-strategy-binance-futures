{
 "cells": [
  {
   "cell_type": "code",
   "execution_count": 3,
   "metadata": {},
   "outputs": [
    {
     "ename": "AuthenticationError",
     "evalue": "binance {\"code\":-2008,\"msg\":\"Invalid Api-Key ID.\"}",
     "output_type": "error",
     "traceback": [
      "\u001b[1;31m---------------------------------------------------------------------------\u001b[0m",
      "\u001b[1;31mHTTPError\u001b[0m                                 Traceback (most recent call last)",
      "File \u001b[1;32mc:\\Users\\yalci\\AppData\\Local\\Programs\\Python\\Python312\\Lib\\site-packages\\ccxt\\base\\exchange.py:630\u001b[0m, in \u001b[0;36mExchange.fetch\u001b[1;34m(self, url, method, headers, body)\u001b[0m\n\u001b[0;32m    629\u001b[0m     \u001b[38;5;28mself\u001b[39m\u001b[38;5;241m.\u001b[39mlogger\u001b[38;5;241m.\u001b[39mdebug(\u001b[38;5;124m\"\u001b[39m\u001b[38;5;132;01m%s\u001b[39;00m\u001b[38;5;124m \u001b[39m\u001b[38;5;132;01m%s\u001b[39;00m\u001b[38;5;124m, Response: \u001b[39m\u001b[38;5;132;01m%s\u001b[39;00m\u001b[38;5;124m \u001b[39m\u001b[38;5;132;01m%s\u001b[39;00m\u001b[38;5;124m \u001b[39m\u001b[38;5;132;01m%s\u001b[39;00m\u001b[38;5;124m\"\u001b[39m, method, url, http_status_code, headers, http_response)\n\u001b[1;32m--> 630\u001b[0m     \u001b[43mresponse\u001b[49m\u001b[38;5;241;43m.\u001b[39;49m\u001b[43mraise_for_status\u001b[49m\u001b[43m(\u001b[49m\u001b[43m)\u001b[49m\n\u001b[0;32m    632\u001b[0m \u001b[38;5;28;01mexcept\u001b[39;00m Timeout \u001b[38;5;28;01mas\u001b[39;00m e:\n",
      "File \u001b[1;32mc:\\Users\\yalci\\AppData\\Local\\Programs\\Python\\Python312\\Lib\\site-packages\\requests\\models.py:1021\u001b[0m, in \u001b[0;36mResponse.raise_for_status\u001b[1;34m(self)\u001b[0m\n\u001b[0;32m   1020\u001b[0m \u001b[38;5;28;01mif\u001b[39;00m http_error_msg:\n\u001b[1;32m-> 1021\u001b[0m     \u001b[38;5;28;01mraise\u001b[39;00m HTTPError(http_error_msg, response\u001b[38;5;241m=\u001b[39m\u001b[38;5;28mself\u001b[39m)\n",
      "\u001b[1;31mHTTPError\u001b[0m: 400 Client Error:  for url: https://api.binance.com/sapi/v1/capital/config/getall?timestamp=1710338507593&recvWindow=10000&signature=cad6038e30664067df897def5a02865b999149d96de7aa05e29e85f3fcbe4376",
      "\nDuring handling of the above exception, another exception occurred:\n",
      "\u001b[1;31mAuthenticationError\u001b[0m                       Traceback (most recent call last)",
      "Cell \u001b[1;32mIn[3], line 55\u001b[0m\n\u001b[0;32m     52\u001b[0m     coin_list \u001b[38;5;241m=\u001b[39m json\u001b[38;5;241m.\u001b[39mload(json_file)\n\u001b[0;32m     54\u001b[0m \u001b[38;5;66;03m# Run the check_rsi_alert function\u001b[39;00m\n\u001b[1;32m---> 55\u001b[0m \u001b[43mcheck_rsi_alert\u001b[49m\u001b[43m(\u001b[49m\u001b[43mcoin_list\u001b[49m\u001b[43m)\u001b[49m\n",
      "Cell \u001b[1;32mIn[3], line 33\u001b[0m, in \u001b[0;36mcheck_rsi_alert\u001b[1;34m(coin_list)\u001b[0m\n\u001b[0;32m     31\u001b[0m \u001b[38;5;28;01mdef\u001b[39;00m \u001b[38;5;21mcheck_rsi_alert\u001b[39m(coin_list):\n\u001b[0;32m     32\u001b[0m     \u001b[38;5;28;01mfor\u001b[39;00m symbol \u001b[38;5;129;01min\u001b[39;00m coin_list:\n\u001b[1;32m---> 33\u001b[0m         df, rsi \u001b[38;5;241m=\u001b[39m \u001b[43mget_rsi\u001b[49m\u001b[43m(\u001b[49m\u001b[43msymbol\u001b[49m\u001b[43m)\u001b[49m\n\u001b[0;32m     34\u001b[0m         last_rsi \u001b[38;5;241m=\u001b[39m rsi[\u001b[38;5;241m-\u001b[39m\u001b[38;5;241m1\u001b[39m]\n\u001b[0;32m     36\u001b[0m         \u001b[38;5;66;03m# Check if RSI is below 30 or above 70\u001b[39;00m\n",
      "Cell \u001b[1;32mIn[3], line 21\u001b[0m, in \u001b[0;36mget_rsi\u001b[1;34m(symbol, timeframe, limit)\u001b[0m\n\u001b[0;32m     20\u001b[0m \u001b[38;5;28;01mdef\u001b[39;00m \u001b[38;5;21mget_rsi\u001b[39m(symbol, timeframe\u001b[38;5;241m=\u001b[39m\u001b[38;5;124m'\u001b[39m\u001b[38;5;124m5m\u001b[39m\u001b[38;5;124m'\u001b[39m, limit\u001b[38;5;241m=\u001b[39m\u001b[38;5;241m100\u001b[39m):\n\u001b[1;32m---> 21\u001b[0m     ohlcv \u001b[38;5;241m=\u001b[39m \u001b[43mexchange\u001b[49m\u001b[38;5;241;43m.\u001b[39;49m\u001b[43mfetch_ohlcv\u001b[49m\u001b[43m(\u001b[49m\u001b[43msymbol\u001b[49m\u001b[43m,\u001b[49m\u001b[43m \u001b[49m\u001b[43mtimeframe\u001b[49m\u001b[43m,\u001b[49m\u001b[43m \u001b[49m\u001b[43mlimit\u001b[49m\u001b[38;5;241;43m=\u001b[39;49m\u001b[43mlimit\u001b[49m\u001b[43m)\u001b[49m\n\u001b[0;32m     22\u001b[0m     df \u001b[38;5;241m=\u001b[39m pd\u001b[38;5;241m.\u001b[39mDataFrame(ohlcv, columns\u001b[38;5;241m=\u001b[39m[\u001b[38;5;124m'\u001b[39m\u001b[38;5;124mtimestamp\u001b[39m\u001b[38;5;124m'\u001b[39m, \u001b[38;5;124m'\u001b[39m\u001b[38;5;124mopen\u001b[39m\u001b[38;5;124m'\u001b[39m, \u001b[38;5;124m'\u001b[39m\u001b[38;5;124mhigh\u001b[39m\u001b[38;5;124m'\u001b[39m, \u001b[38;5;124m'\u001b[39m\u001b[38;5;124mlow\u001b[39m\u001b[38;5;124m'\u001b[39m, \u001b[38;5;124m'\u001b[39m\u001b[38;5;124mclose\u001b[39m\u001b[38;5;124m'\u001b[39m, \u001b[38;5;124m'\u001b[39m\u001b[38;5;124mvolume\u001b[39m\u001b[38;5;124m'\u001b[39m])\n\u001b[0;32m     23\u001b[0m     df[\u001b[38;5;124m'\u001b[39m\u001b[38;5;124mtimestamp\u001b[39m\u001b[38;5;124m'\u001b[39m] \u001b[38;5;241m=\u001b[39m pd\u001b[38;5;241m.\u001b[39mto_datetime(df[\u001b[38;5;124m'\u001b[39m\u001b[38;5;124mtimestamp\u001b[39m\u001b[38;5;124m'\u001b[39m], unit\u001b[38;5;241m=\u001b[39m\u001b[38;5;124m'\u001b[39m\u001b[38;5;124mms\u001b[39m\u001b[38;5;124m'\u001b[39m)\n",
      "File \u001b[1;32mc:\\Users\\yalci\\AppData\\Local\\Programs\\Python\\Python312\\Lib\\site-packages\\ccxt\\binance.py:4040\u001b[0m, in \u001b[0;36mbinance.fetch_ohlcv\u001b[1;34m(self, symbol, timeframe, since, limit, params)\u001b[0m\n\u001b[0;32m   4019\u001b[0m \u001b[38;5;28;01mdef\u001b[39;00m \u001b[38;5;21mfetch_ohlcv\u001b[39m(\u001b[38;5;28mself\u001b[39m, symbol: \u001b[38;5;28mstr\u001b[39m, timeframe\u001b[38;5;241m=\u001b[39m\u001b[38;5;124m'\u001b[39m\u001b[38;5;124m1m\u001b[39m\u001b[38;5;124m'\u001b[39m, since: Int \u001b[38;5;241m=\u001b[39m \u001b[38;5;28;01mNone\u001b[39;00m, limit: Int \u001b[38;5;241m=\u001b[39m \u001b[38;5;28;01mNone\u001b[39;00m, params\u001b[38;5;241m=\u001b[39m{}) \u001b[38;5;241m-\u001b[39m\u001b[38;5;241m>\u001b[39m List[\u001b[38;5;28mlist\u001b[39m]:\n\u001b[0;32m   4020\u001b[0m \u001b[38;5;250m    \u001b[39m\u001b[38;5;124;03m\"\"\"\u001b[39;00m\n\u001b[0;32m   4021\u001b[0m \u001b[38;5;124;03m    fetches historical candlestick data containing the open, high, low, and close price, and the volume of a market\u001b[39;00m\n\u001b[0;32m   4022\u001b[0m \u001b[38;5;124;03m    :see: https://binance-docs.github.io/apidocs/spot/en/#kline-candlestick-data\u001b[39;00m\n\u001b[1;32m   (...)\u001b[0m\n\u001b[0;32m   4038\u001b[0m \u001b[38;5;124;03m    :returns int[][]: A list of candles ordered, open, high, low, close, volume\u001b[39;00m\n\u001b[0;32m   4039\u001b[0m \u001b[38;5;124;03m    \"\"\"\u001b[39;00m\n\u001b[1;32m-> 4040\u001b[0m     \u001b[38;5;28;43mself\u001b[39;49m\u001b[38;5;241;43m.\u001b[39;49m\u001b[43mload_markets\u001b[49m\u001b[43m(\u001b[49m\u001b[43m)\u001b[49m\n\u001b[0;32m   4041\u001b[0m     paginate \u001b[38;5;241m=\u001b[39m \u001b[38;5;28;01mFalse\u001b[39;00m\n\u001b[0;32m   4042\u001b[0m     paginate, params \u001b[38;5;241m=\u001b[39m \u001b[38;5;28mself\u001b[39m\u001b[38;5;241m.\u001b[39mhandle_option_and_params(params, \u001b[38;5;124m'\u001b[39m\u001b[38;5;124mfetchOHLCV\u001b[39m\u001b[38;5;124m'\u001b[39m, \u001b[38;5;124m'\u001b[39m\u001b[38;5;124mpaginate\u001b[39m\u001b[38;5;124m'\u001b[39m, \u001b[38;5;28;01mFalse\u001b[39;00m)\n",
      "File \u001b[1;32mc:\\Users\\yalci\\AppData\\Local\\Programs\\Python\\Python312\\Lib\\site-packages\\ccxt\\base\\exchange.py:1496\u001b[0m, in \u001b[0;36mExchange.load_markets\u001b[1;34m(self, reload, params)\u001b[0m\n\u001b[0;32m   1494\u001b[0m currencies \u001b[38;5;241m=\u001b[39m \u001b[38;5;28;01mNone\u001b[39;00m\n\u001b[0;32m   1495\u001b[0m \u001b[38;5;28;01mif\u001b[39;00m \u001b[38;5;28mself\u001b[39m\u001b[38;5;241m.\u001b[39mhas[\u001b[38;5;124m'\u001b[39m\u001b[38;5;124mfetchCurrencies\u001b[39m\u001b[38;5;124m'\u001b[39m] \u001b[38;5;129;01mis\u001b[39;00m \u001b[38;5;28;01mTrue\u001b[39;00m:\n\u001b[1;32m-> 1496\u001b[0m     currencies \u001b[38;5;241m=\u001b[39m \u001b[38;5;28;43mself\u001b[39;49m\u001b[38;5;241;43m.\u001b[39;49m\u001b[43mfetch_currencies\u001b[49m\u001b[43m(\u001b[49m\u001b[43m)\u001b[49m\n\u001b[0;32m   1497\u001b[0m markets \u001b[38;5;241m=\u001b[39m \u001b[38;5;28mself\u001b[39m\u001b[38;5;241m.\u001b[39mfetch_markets(params)\n\u001b[0;32m   1498\u001b[0m \u001b[38;5;28;01mreturn\u001b[39;00m \u001b[38;5;28mself\u001b[39m\u001b[38;5;241m.\u001b[39mset_markets(markets, currencies)\n",
      "File \u001b[1;32mc:\\Users\\yalci\\AppData\\Local\\Programs\\Python\\Python312\\Lib\\site-packages\\ccxt\\binance.py:2560\u001b[0m, in \u001b[0;36mbinance.fetch_currencies\u001b[1;34m(self, params)\u001b[0m\n\u001b[0;32m   2558\u001b[0m \u001b[38;5;28;01mif\u001b[39;00m apiBackup \u001b[38;5;129;01mis\u001b[39;00m \u001b[38;5;129;01mnot\u001b[39;00m \u001b[38;5;28;01mNone\u001b[39;00m:\n\u001b[0;32m   2559\u001b[0m     \u001b[38;5;28;01mreturn\u001b[39;00m \u001b[38;5;28;01mNone\u001b[39;00m\n\u001b[1;32m-> 2560\u001b[0m response \u001b[38;5;241m=\u001b[39m \u001b[38;5;28;43mself\u001b[39;49m\u001b[38;5;241;43m.\u001b[39;49m\u001b[43msapiGetCapitalConfigGetall\u001b[49m\u001b[43m(\u001b[49m\u001b[43mparams\u001b[49m\u001b[43m)\u001b[49m\n\u001b[0;32m   2561\u001b[0m result \u001b[38;5;241m=\u001b[39m {}\n\u001b[0;32m   2562\u001b[0m \u001b[38;5;28;01mfor\u001b[39;00m i \u001b[38;5;129;01min\u001b[39;00m \u001b[38;5;28mrange\u001b[39m(\u001b[38;5;241m0\u001b[39m, \u001b[38;5;28mlen\u001b[39m(response)):\n\u001b[0;32m   2563\u001b[0m     \u001b[38;5;66;03m#\u001b[39;00m\n\u001b[0;32m   2564\u001b[0m     \u001b[38;5;66;03m#    {\u001b[39;00m\n\u001b[1;32m   (...)\u001b[0m\n\u001b[0;32m   2656\u001b[0m     \u001b[38;5;66;03m#    }\u001b[39;00m\n\u001b[0;32m   2657\u001b[0m     \u001b[38;5;66;03m#\u001b[39;00m\n",
      "File \u001b[1;32mc:\\Users\\yalci\\AppData\\Local\\Programs\\Python\\Python312\\Lib\\site-packages\\ccxt\\base\\types.py:35\u001b[0m, in \u001b[0;36mEntry.__init__.<locals>.unbound_method\u001b[1;34m(_self, params)\u001b[0m\n\u001b[0;32m     34\u001b[0m \u001b[38;5;28;01mdef\u001b[39;00m \u001b[38;5;21munbound_method\u001b[39m(_self, params\u001b[38;5;241m=\u001b[39m{}):\n\u001b[1;32m---> 35\u001b[0m     \u001b[38;5;28;01mreturn\u001b[39;00m \u001b[43m_self\u001b[49m\u001b[38;5;241;43m.\u001b[39;49m\u001b[43mrequest\u001b[49m\u001b[43m(\u001b[49m\u001b[38;5;28;43mself\u001b[39;49m\u001b[38;5;241;43m.\u001b[39;49m\u001b[43mpath\u001b[49m\u001b[43m,\u001b[49m\u001b[43m \u001b[49m\u001b[38;5;28;43mself\u001b[39;49m\u001b[38;5;241;43m.\u001b[39;49m\u001b[43mapi\u001b[49m\u001b[43m,\u001b[49m\u001b[43m \u001b[49m\u001b[38;5;28;43mself\u001b[39;49m\u001b[38;5;241;43m.\u001b[39;49m\u001b[43mmethod\u001b[49m\u001b[43m,\u001b[49m\u001b[43m \u001b[49m\u001b[43mparams\u001b[49m\u001b[43m,\u001b[49m\u001b[43m \u001b[49m\u001b[43mconfig\u001b[49m\u001b[38;5;241;43m=\u001b[39;49m\u001b[38;5;28;43mself\u001b[39;49m\u001b[38;5;241;43m.\u001b[39;49m\u001b[43mconfig\u001b[49m\u001b[43m)\u001b[49m\n",
      "File \u001b[1;32mc:\\Users\\yalci\\AppData\\Local\\Programs\\Python\\Python312\\Lib\\site-packages\\ccxt\\binance.py:10207\u001b[0m, in \u001b[0;36mbinance.request\u001b[1;34m(self, path, api, method, params, headers, body, config)\u001b[0m\n\u001b[0;32m  10206\u001b[0m \u001b[38;5;28;01mdef\u001b[39;00m \u001b[38;5;21mrequest\u001b[39m(\u001b[38;5;28mself\u001b[39m, path, api\u001b[38;5;241m=\u001b[39m\u001b[38;5;124m'\u001b[39m\u001b[38;5;124mpublic\u001b[39m\u001b[38;5;124m'\u001b[39m, method\u001b[38;5;241m=\u001b[39m\u001b[38;5;124m'\u001b[39m\u001b[38;5;124mGET\u001b[39m\u001b[38;5;124m'\u001b[39m, params\u001b[38;5;241m=\u001b[39m{}, headers\u001b[38;5;241m=\u001b[39m\u001b[38;5;28;01mNone\u001b[39;00m, body\u001b[38;5;241m=\u001b[39m\u001b[38;5;28;01mNone\u001b[39;00m, config\u001b[38;5;241m=\u001b[39m{}):\n\u001b[1;32m> 10207\u001b[0m     response \u001b[38;5;241m=\u001b[39m \u001b[38;5;28;43mself\u001b[39;49m\u001b[38;5;241;43m.\u001b[39;49m\u001b[43mfetch2\u001b[49m\u001b[43m(\u001b[49m\u001b[43mpath\u001b[49m\u001b[43m,\u001b[49m\u001b[43m \u001b[49m\u001b[43mapi\u001b[49m\u001b[43m,\u001b[49m\u001b[43m \u001b[49m\u001b[43mmethod\u001b[49m\u001b[43m,\u001b[49m\u001b[43m \u001b[49m\u001b[43mparams\u001b[49m\u001b[43m,\u001b[49m\u001b[43m \u001b[49m\u001b[43mheaders\u001b[49m\u001b[43m,\u001b[49m\u001b[43m \u001b[49m\u001b[43mbody\u001b[49m\u001b[43m,\u001b[49m\u001b[43m \u001b[49m\u001b[43mconfig\u001b[49m\u001b[43m)\u001b[49m\n\u001b[0;32m  10208\u001b[0m     \u001b[38;5;66;03m# a workaround for {\"code\":-2015,\"msg\":\"Invalid API-key, IP, or permissions for action.\"}\u001b[39;00m\n\u001b[0;32m  10209\u001b[0m     \u001b[38;5;28;01mif\u001b[39;00m api \u001b[38;5;241m==\u001b[39m \u001b[38;5;124m'\u001b[39m\u001b[38;5;124mprivate\u001b[39m\u001b[38;5;124m'\u001b[39m:\n",
      "File \u001b[1;32mc:\\Users\\yalci\\AppData\\Local\\Programs\\Python\\Python312\\Lib\\site-packages\\ccxt\\base\\exchange.py:3560\u001b[0m, in \u001b[0;36mExchange.fetch2\u001b[1;34m(self, path, api, method, params, headers, body, config)\u001b[0m\n\u001b[0;32m   3558\u001b[0m \u001b[38;5;28mself\u001b[39m\u001b[38;5;241m.\u001b[39mlast_request_body \u001b[38;5;241m=\u001b[39m request[\u001b[38;5;124m'\u001b[39m\u001b[38;5;124mbody\u001b[39m\u001b[38;5;124m'\u001b[39m]\n\u001b[0;32m   3559\u001b[0m \u001b[38;5;28mself\u001b[39m\u001b[38;5;241m.\u001b[39mlast_request_url \u001b[38;5;241m=\u001b[39m request[\u001b[38;5;124m'\u001b[39m\u001b[38;5;124murl\u001b[39m\u001b[38;5;124m'\u001b[39m]\n\u001b[1;32m-> 3560\u001b[0m \u001b[38;5;28;01mreturn\u001b[39;00m \u001b[38;5;28;43mself\u001b[39;49m\u001b[38;5;241;43m.\u001b[39;49m\u001b[43mfetch\u001b[49m\u001b[43m(\u001b[49m\u001b[43mrequest\u001b[49m\u001b[43m[\u001b[49m\u001b[38;5;124;43m'\u001b[39;49m\u001b[38;5;124;43murl\u001b[39;49m\u001b[38;5;124;43m'\u001b[39;49m\u001b[43m]\u001b[49m\u001b[43m,\u001b[49m\u001b[43m \u001b[49m\u001b[43mrequest\u001b[49m\u001b[43m[\u001b[49m\u001b[38;5;124;43m'\u001b[39;49m\u001b[38;5;124;43mmethod\u001b[39;49m\u001b[38;5;124;43m'\u001b[39;49m\u001b[43m]\u001b[49m\u001b[43m,\u001b[49m\u001b[43m \u001b[49m\u001b[43mrequest\u001b[49m\u001b[43m[\u001b[49m\u001b[38;5;124;43m'\u001b[39;49m\u001b[38;5;124;43mheaders\u001b[39;49m\u001b[38;5;124;43m'\u001b[39;49m\u001b[43m]\u001b[49m\u001b[43m,\u001b[49m\u001b[43m \u001b[49m\u001b[43mrequest\u001b[49m\u001b[43m[\u001b[49m\u001b[38;5;124;43m'\u001b[39;49m\u001b[38;5;124;43mbody\u001b[39;49m\u001b[38;5;124;43m'\u001b[39;49m\u001b[43m]\u001b[49m\u001b[43m)\u001b[49m\n",
      "File \u001b[1;32mc:\\Users\\yalci\\AppData\\Local\\Programs\\Python\\Python312\\Lib\\site-packages\\ccxt\\base\\exchange.py:646\u001b[0m, in \u001b[0;36mExchange.fetch\u001b[1;34m(self, url, method, headers, body)\u001b[0m\n\u001b[0;32m    644\u001b[0m \u001b[38;5;28;01mexcept\u001b[39;00m HTTPError \u001b[38;5;28;01mas\u001b[39;00m e:\n\u001b[0;32m    645\u001b[0m     details \u001b[38;5;241m=\u001b[39m \u001b[38;5;124m'\u001b[39m\u001b[38;5;124m \u001b[39m\u001b[38;5;124m'\u001b[39m\u001b[38;5;241m.\u001b[39mjoin([\u001b[38;5;28mself\u001b[39m\u001b[38;5;241m.\u001b[39mid, method, url])\n\u001b[1;32m--> 646\u001b[0m     skip_further_error_handling \u001b[38;5;241m=\u001b[39m \u001b[38;5;28;43mself\u001b[39;49m\u001b[38;5;241;43m.\u001b[39;49m\u001b[43mhandle_errors\u001b[49m\u001b[43m(\u001b[49m\u001b[43mhttp_status_code\u001b[49m\u001b[43m,\u001b[49m\u001b[43m \u001b[49m\u001b[43mhttp_status_text\u001b[49m\u001b[43m,\u001b[49m\u001b[43m \u001b[49m\u001b[43murl\u001b[49m\u001b[43m,\u001b[49m\u001b[43m \u001b[49m\u001b[43mmethod\u001b[49m\u001b[43m,\u001b[49m\u001b[43m \u001b[49m\u001b[43mheaders\u001b[49m\u001b[43m,\u001b[49m\u001b[43m \u001b[49m\u001b[43mhttp_response\u001b[49m\u001b[43m,\u001b[49m\u001b[43m \u001b[49m\u001b[43mjson_response\u001b[49m\u001b[43m,\u001b[49m\u001b[43m \u001b[49m\u001b[43mrequest_headers\u001b[49m\u001b[43m,\u001b[49m\u001b[43m \u001b[49m\u001b[43mrequest_body\u001b[49m\u001b[43m)\u001b[49m\n\u001b[0;32m    647\u001b[0m     \u001b[38;5;28;01mif\u001b[39;00m \u001b[38;5;129;01mnot\u001b[39;00m skip_further_error_handling:\n\u001b[0;32m    648\u001b[0m         \u001b[38;5;28mself\u001b[39m\u001b[38;5;241m.\u001b[39mhandle_http_status_code(http_status_code, http_status_text, url, method, http_response)\n",
      "File \u001b[1;32mc:\\Users\\yalci\\AppData\\Local\\Programs\\Python\\Python312\\Lib\\site-packages\\ccxt\\binance.py:10174\u001b[0m, in \u001b[0;36mbinance.handle_errors\u001b[1;34m(self, code, reason, url, method, headers, body, response, requestHeaders, requestBody)\u001b[0m\n\u001b[0;32m  10167\u001b[0m \u001b[38;5;28;01mif\u001b[39;00m message \u001b[38;5;241m==\u001b[39m \u001b[38;5;124m'\u001b[39m\u001b[38;5;124mNo need to change margin type.\u001b[39m\u001b[38;5;124m'\u001b[39m:\n\u001b[0;32m  10168\u001b[0m     \u001b[38;5;66;03m# not an error\u001b[39;00m\n\u001b[0;32m  10169\u001b[0m     \u001b[38;5;66;03m# https://github.com/ccxt/ccxt/issues/11268\u001b[39;00m\n\u001b[0;32m  10170\u001b[0m     \u001b[38;5;66;03m# https://github.com/ccxt/ccxt/pull/11624\u001b[39;00m\n\u001b[0;32m  10171\u001b[0m     \u001b[38;5;66;03m# POST https://fapi.binance.com/fapi/v1/marginType 400 Bad Request\u001b[39;00m\n\u001b[0;32m  10172\u001b[0m     \u001b[38;5;66;03m# binanceusdm {\"code\":-4046,\"msg\":\"No need to change margin type.\"}\u001b[39;00m\n\u001b[0;32m  10173\u001b[0m     \u001b[38;5;28;01mraise\u001b[39;00m MarginModeAlreadySet(feedback)\n\u001b[1;32m> 10174\u001b[0m \u001b[38;5;28;43mself\u001b[39;49m\u001b[38;5;241;43m.\u001b[39;49m\u001b[43mthrow_exactly_matched_exception\u001b[49m\u001b[43m(\u001b[49m\u001b[38;5;28;43mself\u001b[39;49m\u001b[38;5;241;43m.\u001b[39;49m\u001b[43mget_exceptions_by_url\u001b[49m\u001b[43m(\u001b[49m\u001b[43murl\u001b[49m\u001b[43m,\u001b[49m\u001b[43m \u001b[49m\u001b[38;5;124;43m'\u001b[39;49m\u001b[38;5;124;43mexact\u001b[39;49m\u001b[38;5;124;43m'\u001b[39;49m\u001b[43m)\u001b[49m\u001b[43m,\u001b[49m\u001b[43m \u001b[49m\u001b[43merror\u001b[49m\u001b[43m,\u001b[49m\u001b[43m \u001b[49m\u001b[43mfeedback\u001b[49m\u001b[43m)\u001b[49m\n\u001b[0;32m  10175\u001b[0m \u001b[38;5;28mself\u001b[39m\u001b[38;5;241m.\u001b[39mthrow_exactly_matched_exception(\u001b[38;5;28mself\u001b[39m\u001b[38;5;241m.\u001b[39mexceptions[\u001b[38;5;124m'\u001b[39m\u001b[38;5;124mexact\u001b[39m\u001b[38;5;124m'\u001b[39m], error, feedback)\n\u001b[0;32m  10176\u001b[0m \u001b[38;5;28;01mraise\u001b[39;00m ExchangeError(feedback)\n",
      "File \u001b[1;32mc:\\Users\\yalci\\AppData\\Local\\Programs\\Python\\Python312\\Lib\\site-packages\\ccxt\\base\\exchange.py:3937\u001b[0m, in \u001b[0;36mExchange.throw_exactly_matched_exception\u001b[1;34m(self, exact, string, message)\u001b[0m\n\u001b[0;32m   3935\u001b[0m     \u001b[38;5;28;01mreturn\u001b[39;00m\n\u001b[0;32m   3936\u001b[0m \u001b[38;5;28;01mif\u001b[39;00m string \u001b[38;5;129;01min\u001b[39;00m exact:\n\u001b[1;32m-> 3937\u001b[0m     \u001b[38;5;28;01mraise\u001b[39;00m exact[string](message)\n",
      "\u001b[1;31mAuthenticationError\u001b[0m: binance {\"code\":-2008,\"msg\":\"Invalid Api-Key ID.\"}"
     ]
    }
   ],
   "source": [
    "import ccxt , config\n",
    "import pandas as pd\n",
    "import time\n",
    "import json\n",
    "import numpy as np\n",
    "\n",
    "def calculate_rsi(close_prices, window=14):\n",
    "    diff = np.diff(close_prices)\n",
    "    gain = np.where(diff > 0, diff, 0)\n",
    "    loss = -np.where(diff < 0, diff, 0)\n",
    "\n",
    "    avg_gain = np.mean(gain[:window])\n",
    "    avg_loss = np.mean(loss[:window])\n",
    "\n",
    "    rs = avg_gain / (avg_loss + 1e-10)\n",
    "    rsi = 100 - (100 / (1 + rs))\n",
    "\n",
    "    return rsi\n",
    "\n",
    "def get_rsi(symbol, timeframe='5m', limit=100):\n",
    "    ohlcv = exchange.fetch_ohlcv(symbol, timeframe, limit=limit)\n",
    "    df = pd.DataFrame(ohlcv, columns=['timestamp', 'open', 'high', 'low', 'close', 'volume'])\n",
    "    df['timestamp'] = pd.to_datetime(df['timestamp'], unit='ms')\n",
    "\n",
    "    # Calculate RSI\n",
    "    close_prices = df['close'].to_numpy()\n",
    "    rsi = calculate_rsi(close_prices)\n",
    "\n",
    "    return df, rsi\n",
    "\n",
    "def check_rsi_alert(coin_list):\n",
    "    for symbol in coin_list:\n",
    "        df, rsi = get_rsi(symbol)\n",
    "        last_rsi = rsi[-1]\n",
    "\n",
    "        # Check if RSI is below 30 or above 70\n",
    "        if last_rsi < 30 or last_rsi > 70:\n",
    "            print(f\"ALERT: {symbol} - RSI: {last_rsi}\")\n",
    "\n",
    "# API CONNECT\n",
    "exchange = ccxt.binance({\n",
    "    \"apiKey\": config.apiKey,\n",
    "    \"secret\": config.secretKey,\n",
    "    'options': {\n",
    "        'defaultType': 'future'\n",
    "    },\n",
    "    'enableRateLimit': True\n",
    "})\n",
    "\n",
    "# Read coin list from JSON file\n",
    "with open('coinlist.json') as json_file:\n",
    "    coin_list = json.load(json_file)\n",
    "\n",
    "# Run the check_rsi_alert function\n",
    "check_rsi_alert(coin_list)\n"
   ]
  },
  {
   "cell_type": "code",
   "execution_count": null,
   "metadata": {},
   "outputs": [],
   "source": []
  },
  {
   "cell_type": "markdown",
   "metadata": {},
   "source": [
    "sdffdfss"
   ]
  },
  {
   "cell_type": "code",
   "execution_count": null,
   "metadata": {},
   "outputs": [],
   "source": []
  }
 ],
 "metadata": {
  "kernelspec": {
   "display_name": "Python 3",
   "language": "python",
   "name": "python3"
  },
  "language_info": {
   "codemirror_mode": {
    "name": "ipython",
    "version": 3
   },
   "file_extension": ".py",
   "mimetype": "text/x-python",
   "name": "python",
   "nbconvert_exporter": "python",
   "pygments_lexer": "ipython3",
   "version": "3.12.2"
  }
 },
 "nbformat": 4,
 "nbformat_minor": 2
}
